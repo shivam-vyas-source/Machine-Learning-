{
  "nbformat": 4,
  "nbformat_minor": 0,
  "metadata": {
    "colab": {
      "provenance": []
    },
    "kernelspec": {
      "name": "python3",
      "display_name": "Python 3"
    },
    "language_info": {
      "name": "python"
    }
  },
  "cells": [
    {
      "cell_type": "code",
      "metadata": {
        "id": "X99bC6sr5g3I"
      },
      "source": [
        "import numpy as np # linear algebra\n",
        "import matplotlib.pyplot as plt # data processing, CSV file I/O (e.g. pd.read_csv)\n",
        "import pandas as pd\n",
        "\n",
        "import warnings \n",
        "import seaborn as sns\n"
      ],
      "execution_count": null,
      "outputs": []
    },
    {
      "cell_type": "code",
      "metadata": {
        "id": "3CVIiUmO5pDg"
      },
      "source": [
        "data = pd.read_csv('/content/Mall_Customers_1.csv') \n",
        "X = data.iloc[:, [3,4]].values"
      ],
      "execution_count": null,
      "outputs": []
    },
    {
      "cell_type": "code",
      "metadata": {
        "colab": {
          "base_uri": "https://localhost:8080/",
          "height": 168
        },
        "id": "E91he5EY55mE",
        "outputId": "d4ba15ea-31bd-4e76-86a8-8b5298306eae"
      },
      "source": [
        "data.head(4)"
      ],
      "execution_count": null,
      "outputs": [
        {
          "output_type": "execute_result",
          "data": {
            "text/html": [
              "<div>\n",
              "<style scoped>\n",
              "    .dataframe tbody tr th:only-of-type {\n",
              "        vertical-align: middle;\n",
              "    }\n",
              "\n",
              "    .dataframe tbody tr th {\n",
              "        vertical-align: top;\n",
              "    }\n",
              "\n",
              "    .dataframe thead th {\n",
              "        text-align: right;\n",
              "    }\n",
              "</style>\n",
              "<table border=\"1\" class=\"dataframe\">\n",
              "  <thead>\n",
              "    <tr style=\"text-align: right;\">\n",
              "      <th></th>\n",
              "      <th>CustomerID</th>\n",
              "      <th>Genre</th>\n",
              "      <th>Age</th>\n",
              "      <th>Annual Income (k$)</th>\n",
              "      <th>Spending Score (1-100)</th>\n",
              "    </tr>\n",
              "  </thead>\n",
              "  <tbody>\n",
              "    <tr>\n",
              "      <th>0</th>\n",
              "      <td>1</td>\n",
              "      <td>Male</td>\n",
              "      <td>19</td>\n",
              "      <td>15</td>\n",
              "      <td>39</td>\n",
              "    </tr>\n",
              "    <tr>\n",
              "      <th>1</th>\n",
              "      <td>2</td>\n",
              "      <td>Male</td>\n",
              "      <td>21</td>\n",
              "      <td>15</td>\n",
              "      <td>81</td>\n",
              "    </tr>\n",
              "    <tr>\n",
              "      <th>2</th>\n",
              "      <td>3</td>\n",
              "      <td>Female</td>\n",
              "      <td>20</td>\n",
              "      <td>16</td>\n",
              "      <td>6</td>\n",
              "    </tr>\n",
              "    <tr>\n",
              "      <th>3</th>\n",
              "      <td>4</td>\n",
              "      <td>Female</td>\n",
              "      <td>23</td>\n",
              "      <td>16</td>\n",
              "      <td>77</td>\n",
              "    </tr>\n",
              "  </tbody>\n",
              "</table>\n",
              "</div>"
            ],
            "text/plain": [
              "   CustomerID   Genre  Age  Annual Income (k$)  Spending Score (1-100)\n",
              "0           1    Male   19                  15                      39\n",
              "1           2    Male   21                  15                      81\n",
              "2           3  Female   20                  16                       6\n",
              "3           4  Female   23                  16                      77"
            ]
          },
          "metadata": {
            "tags": []
          },
          "execution_count": 3
        }
      ]
    },
    {
      "cell_type": "code",
      "metadata": {
        "colab": {
          "base_uri": "https://localhost:8080/"
        },
        "id": "PDc98Hun6BV1",
        "outputId": "f2114202-69cc-4cd1-e1f6-f6fee893b524"
      },
      "source": [
        "data.info()"
      ],
      "execution_count": null,
      "outputs": [
        {
          "output_type": "stream",
          "text": [
            "<class 'pandas.core.frame.DataFrame'>\n",
            "RangeIndex: 200 entries, 0 to 199\n",
            "Data columns (total 5 columns):\n",
            " #   Column                  Non-Null Count  Dtype \n",
            "---  ------                  --------------  ----- \n",
            " 0   CustomerID              200 non-null    int64 \n",
            " 1   Genre                   200 non-null    object\n",
            " 2   Age                     200 non-null    int64 \n",
            " 3   Annual Income (k$)      200 non-null    int64 \n",
            " 4   Spending Score (1-100)  200 non-null    int64 \n",
            "dtypes: int64(4), object(1)\n",
            "memory usage: 7.9+ KB\n"
          ],
          "name": "stdout"
        }
      ]
    },
    {
      "cell_type": "code",
      "metadata": {
        "colab": {
          "base_uri": "https://localhost:8080/",
          "height": 288
        },
        "id": "CGM37Xpa6ICE",
        "outputId": "4326f623-7d8d-410b-d567-892f94635b36"
      },
      "source": [
        "data.info()"
      ],
      "execution_count": null,
      "outputs": [
        {
          "output_type": "execute_result",
          "data": {
            "text/html": [
              "<div>\n",
              "<style scoped>\n",
              "    .dataframe tbody tr th:only-of-type {\n",
              "        vertical-align: middle;\n",
              "    }\n",
              "\n",
              "    .dataframe tbody tr th {\n",
              "        vertical-align: top;\n",
              "    }\n",
              "\n",
              "    .dataframe thead th {\n",
              "        text-align: right;\n",
              "    }\n",
              "</style>\n",
              "<table border=\"1\" class=\"dataframe\">\n",
              "  <thead>\n",
              "    <tr style=\"text-align: right;\">\n",
              "      <th></th>\n",
              "      <th>CustomerID</th>\n",
              "      <th>Age</th>\n",
              "      <th>Annual Income (k$)</th>\n",
              "      <th>Spending Score (1-100)</th>\n",
              "    </tr>\n",
              "  </thead>\n",
              "  <tbody>\n",
              "    <tr>\n",
              "      <th>count</th>\n",
              "      <td>200.000000</td>\n",
              "      <td>200.000000</td>\n",
              "      <td>200.000000</td>\n",
              "      <td>200.000000</td>\n",
              "    </tr>\n",
              "    <tr>\n",
              "      <th>mean</th>\n",
              "      <td>100.500000</td>\n",
              "      <td>38.850000</td>\n",
              "      <td>60.560000</td>\n",
              "      <td>50.200000</td>\n",
              "    </tr>\n",
              "    <tr>\n",
              "      <th>std</th>\n",
              "      <td>57.879185</td>\n",
              "      <td>13.969007</td>\n",
              "      <td>26.264721</td>\n",
              "      <td>25.823522</td>\n",
              "    </tr>\n",
              "    <tr>\n",
              "      <th>min</th>\n",
              "      <td>1.000000</td>\n",
              "      <td>18.000000</td>\n",
              "      <td>15.000000</td>\n",
              "      <td>1.000000</td>\n",
              "    </tr>\n",
              "    <tr>\n",
              "      <th>25%</th>\n",
              "      <td>50.750000</td>\n",
              "      <td>28.750000</td>\n",
              "      <td>41.500000</td>\n",
              "      <td>34.750000</td>\n",
              "    </tr>\n",
              "    <tr>\n",
              "      <th>50%</th>\n",
              "      <td>100.500000</td>\n",
              "      <td>36.000000</td>\n",
              "      <td>61.500000</td>\n",
              "      <td>50.000000</td>\n",
              "    </tr>\n",
              "    <tr>\n",
              "      <th>75%</th>\n",
              "      <td>150.250000</td>\n",
              "      <td>49.000000</td>\n",
              "      <td>78.000000</td>\n",
              "      <td>73.000000</td>\n",
              "    </tr>\n",
              "    <tr>\n",
              "      <th>max</th>\n",
              "      <td>200.000000</td>\n",
              "      <td>70.000000</td>\n",
              "      <td>137.000000</td>\n",
              "      <td>99.000000</td>\n",
              "    </tr>\n",
              "  </tbody>\n",
              "</table>\n",
              "</div>"
            ],
            "text/plain": [
              "       CustomerID         Age  Annual Income (k$)  Spending Score (1-100)\n",
              "count  200.000000  200.000000          200.000000              200.000000\n",
              "mean   100.500000   38.850000           60.560000               50.200000\n",
              "std     57.879185   13.969007           26.264721               25.823522\n",
              "min      1.000000   18.000000           15.000000                1.000000\n",
              "25%     50.750000   28.750000           41.500000               34.750000\n",
              "50%    100.500000   36.000000           61.500000               50.000000\n",
              "75%    150.250000   49.000000           78.000000               73.000000\n",
              "max    200.000000   70.000000          137.000000               99.000000"
            ]
          },
          "metadata": {
            "tags": []
          },
          "execution_count": 5
        }
      ]
    },
    {
      "cell_type": "code",
      "metadata": {
        "colab": {
          "base_uri": "https://localhost:8080/"
        },
        "id": "OxB8ITQFokpL",
        "outputId": "bffe946c-05a7-436b-acd2-adc3ae198d1b"
      },
      "source": [
        "df= data.describe().loc['mean']\n",
        "df"
      ],
      "execution_count": null,
      "outputs": [
        {
          "output_type": "execute_result",
          "data": {
            "text/plain": [
              "CustomerID                100.50\n",
              "Age                        38.85\n",
              "Annual Income (k$)         60.56\n",
              "Spending Score (1-100)     50.20\n",
              "Name: mean, dtype: float64"
            ]
          },
          "metadata": {
            "tags": []
          },
          "execution_count": 6
        }
      ]
    },
    {
      "cell_type": "markdown",
      "metadata": {
        "id": "L0yRS2ifoQfU"
      },
      "source": [
        "1.Mean Age of the cusomers is 38.85\n",
        "\n",
        "2.Mean Annual Income 60.56 $\n",
        "\n",
        "3.Mean Spening Score is 50.20"
      ]
    },
    {
      "cell_type": "code",
      "metadata": {
        "colab": {
          "base_uri": "https://localhost:8080/",
          "height": 198
        },
        "id": "cn6HGXmV6MEk",
        "outputId": "840e46a2-d799-40c2-a27e-12adf25f6eb7"
      },
      "source": [
        "data.tail()"
      ],
      "execution_count": null,
      "outputs": [
        {
          "output_type": "execute_result",
          "data": {
            "text/html": [
              "<div>\n",
              "<style scoped>\n",
              "    .dataframe tbody tr th:only-of-type {\n",
              "        vertical-align: middle;\n",
              "    }\n",
              "\n",
              "    .dataframe tbody tr th {\n",
              "        vertical-align: top;\n",
              "    }\n",
              "\n",
              "    .dataframe thead th {\n",
              "        text-align: right;\n",
              "    }\n",
              "</style>\n",
              "<table border=\"1\" class=\"dataframe\">\n",
              "  <thead>\n",
              "    <tr style=\"text-align: right;\">\n",
              "      <th></th>\n",
              "      <th>CustomerID</th>\n",
              "      <th>Genre</th>\n",
              "      <th>Age</th>\n",
              "      <th>Annual Income (k$)</th>\n",
              "      <th>Spending Score (1-100)</th>\n",
              "    </tr>\n",
              "  </thead>\n",
              "  <tbody>\n",
              "    <tr>\n",
              "      <th>195</th>\n",
              "      <td>196</td>\n",
              "      <td>Female</td>\n",
              "      <td>35</td>\n",
              "      <td>120</td>\n",
              "      <td>79</td>\n",
              "    </tr>\n",
              "    <tr>\n",
              "      <th>196</th>\n",
              "      <td>197</td>\n",
              "      <td>Female</td>\n",
              "      <td>45</td>\n",
              "      <td>126</td>\n",
              "      <td>28</td>\n",
              "    </tr>\n",
              "    <tr>\n",
              "      <th>197</th>\n",
              "      <td>198</td>\n",
              "      <td>Male</td>\n",
              "      <td>32</td>\n",
              "      <td>126</td>\n",
              "      <td>74</td>\n",
              "    </tr>\n",
              "    <tr>\n",
              "      <th>198</th>\n",
              "      <td>199</td>\n",
              "      <td>Male</td>\n",
              "      <td>32</td>\n",
              "      <td>137</td>\n",
              "      <td>18</td>\n",
              "    </tr>\n",
              "    <tr>\n",
              "      <th>199</th>\n",
              "      <td>200</td>\n",
              "      <td>Male</td>\n",
              "      <td>30</td>\n",
              "      <td>137</td>\n",
              "      <td>83</td>\n",
              "    </tr>\n",
              "  </tbody>\n",
              "</table>\n",
              "</div>"
            ],
            "text/plain": [
              "     CustomerID   Genre  Age  Annual Income (k$)  Spending Score (1-100)\n",
              "195         196  Female   35                 120                      79\n",
              "196         197  Female   45                 126                      28\n",
              "197         198    Male   32                 126                      74\n",
              "198         199    Male   32                 137                      18\n",
              "199         200    Male   30                 137                      83"
            ]
          },
          "metadata": {
            "tags": []
          },
          "execution_count": 7
        }
      ]
    },
    {
      "cell_type": "code",
      "metadata": {
        "colab": {
          "base_uri": "https://localhost:8080/"
        },
        "id": "k7GmNoum6OgM",
        "outputId": "c4c1f87e-2a5f-4220-82d5-615a348086da"
      },
      "source": [
        "data.isnull().sum()"
      ],
      "execution_count": null,
      "outputs": [
        {
          "output_type": "execute_result",
          "data": {
            "text/plain": [
              "CustomerID                0\n",
              "Genre                     0\n",
              "Age                       0\n",
              "Annual Income (k$)        0\n",
              "Spending Score (1-100)    0\n",
              "dtype: int64"
            ]
          },
          "metadata": {
            "tags": []
          },
          "execution_count": 8
        }
      ]
    },
    {
      "cell_type": "code",
      "metadata": {
        "colab": {
          "base_uri": "https://localhost:8080/"
        },
        "id": "WW--Xpml6R1s",
        "outputId": "38bd7c54-f0c7-445a-c87c-ced006c6d4f7"
      },
      "source": [
        "data['Genre'].value_counts()"
      ],
      "execution_count": null,
      "outputs": [
        {
          "output_type": "execute_result",
          "data": {
            "text/plain": [
              "Female    112\n",
              "Male       88\n",
              "Name: Genre, dtype: int64"
            ]
          },
          "metadata": {
            "tags": []
          },
          "execution_count": 9
        }
      ]
    },
    {
      "cell_type": "code",
      "metadata": {
        "colab": {
          "base_uri": "https://localhost:8080/",
          "height": 295
        },
        "id": "SIp3xasQ6n0q",
        "outputId": "e89798eb-54c1-4e89-888c-d587b3e99a9e"
      },
      "source": [
        "# Plotting the features of the dataset to see the correlation between them\n",
        "\n",
        "plt.hist(x = data.Genre, bins = 3, color = 'pink')\n",
        "plt.title('comparison of male and female')\n",
        "plt.xlabel('Genre')\n",
        "plt.ylabel('population')\n",
        "plt.show()"
      ],
      "execution_count": null,
      "outputs": [
        {
          "output_type": "display_data",
          "data": {
            "image/png": "[encoded data removed]",
            "text/plain": [
              "<Figure size 432x288 with 1 Axes>"
            ]
          },
          "metadata": {
            "tags": [],
            "needs_background": "light"
          }
        }
      ]
    },
    {
      "cell_type": "code",
      "metadata": {
        "colab": {
          "base_uri": "https://localhost:8080/",
          "height": 402
        },
        "id": "Xj8KUP-tCBMs",
        "outputId": "6d3bc17e-0091-4d2c-8fb6-8afa7c6ccc8a"
      },
      "source": [
        "plt.figure(1 , figsize = (17 , 8))\n",
        "sns.countplot(y = 'Genre' , data = data)\n",
        "plt.show()"
      ],
      "execution_count": null,
      "outputs": [
        {
          "output_type": "display_data",
          "data": {
            "image/png": "[encoded data removed]",
            "text/plain": [
              "<Figure size 1224x576 with 1 Axes>"
            ]
          },
          "metadata": {
            "tags": [],
            "needs_background": "light"
          }
        }
      ]
    },
    {
      "cell_type": "code",
      "metadata": {
        "colab": {
          "base_uri": "https://localhost:8080/",
          "height": 391
        },
        "id": "eY5GzQe2pgmV",
        "outputId": "745ed186-a08b-418a-e5cb-5b5cecde3017"
      },
      "source": [
        "data.describe().loc['mean'].plot.bar()"
      ],
      "execution_count": null,
      "outputs": [
        {
          "output_type": "execute_result",
          "data": {
            "text/plain": [
              "<matplotlib.axes._subplots.AxesSubplot at 0x7f01d4788410>"
            ]
          },
          "metadata": {
            "tags": []
          },
          "execution_count": 12
        },
        {
          "output_type": "display_data",
          "data": {
            "image/png": "[encoded data removed]",
            "text/plain": [
              "<Figure size 432x288 with 1 Axes>"
            ]
          },
          "metadata": {
            "tags": [],
            "needs_background": "light"
          }
        }
      ]
    },
    {
      "cell_type": "code",
      "metadata": {
        "colab": {
          "base_uri": "https://localhost:8080/",
          "height": 547
        },
        "id": "HDh22PKjpiHs",
        "outputId": "abed9490-9d3b-4162-f3ab-837f794825b2"
      },
      "source": [
        "\n",
        "\n",
        "plt.figure(1 , figsize = (17 , 8))\n",
        "n = 0 \n",
        "for x in ['Age' , 'Annual Income (k$)' , 'Spending Score (1-100)']:\n",
        "    n += 1\n",
        "    plt.subplot(1 , 3 , n)\n",
        "    sns.distplot(data[x] , bins = 20)\n",
        "    plt.title('Distplot of {}'.format(x))\n",
        "plt.show()"
      ],
      "execution_count": null,
      "outputs": [
        {
          "output_type": "stream",
          "text": [
            "/usr/local/lib/python3.7/dist-packages/seaborn/distributions.py:2557: FutureWarning: `distplot` is a deprecated function and will be removed in a future version. Please adapt your code to use either `displot` (a figure-level function with similar flexibility) or `histplot` (an axes-level function for histograms).\n",
            "  warnings.warn(msg, FutureWarning)\n",
            "/usr/local/lib/python3.7/dist-packages/seaborn/distributions.py:2557: FutureWarning: `distplot` is a deprecated function and will be removed in a future version. Please adapt your code to use either `displot` (a figure-level function with similar flexibility) or `histplot` (an axes-level function for histograms).\n",
            "  warnings.warn(msg, FutureWarning)\n",
            "/usr/local/lib/python3.7/dist-packages/seaborn/distributions.py:2557: FutureWarning: `distplot` is a deprecated function and will be removed in a future version. Please adapt your code to use either `displot` (a figure-level function with similar flexibility) or `histplot` (an axes-level function for histograms).\n",
            "  warnings.warn(msg, FutureWarning)\n"
          ],
          "name": "stderr"
        },
        {
          "output_type": "display_data",
          "data": {
            "image/png": "[encoded data removed]",
            "text/plain": [
              "<Figure size 1224x576 with 3 Axes>"
            ]
          },
          "metadata": {
            "tags": [],
            "needs_background": "light"
          }
        }
      ]
    },
    {
      "cell_type": "code",
      "metadata": {
        "colab": {
          "base_uri": "https://localhost:8080/"
        },
        "id": "0r9fKW4A6WEj",
        "outputId": "99919daa-aaee-495b-ef3a-ed3bab10ab06"
      },
      "source": [
        "data['Age'].value_counts()"
      ],
      "execution_count": null,
      "outputs": [
        {
          "output_type": "execute_result",
          "data": {
            "text/plain": [
              "32    11\n",
              "35     9\n",
              "19     8\n",
              "31     8\n",
              "30     7\n",
              "49     7\n",
              "27     6\n",
              "47     6\n",
              "40     6\n",
              "23     6\n",
              "36     6\n",
              "38     6\n",
              "50     5\n",
              "48     5\n",
              "29     5\n",
              "21     5\n",
              "20     5\n",
              "34     5\n",
              "18     4\n",
              "28     4\n",
              "59     4\n",
              "24     4\n",
              "67     4\n",
              "54     4\n",
              "39     3\n",
              "25     3\n",
              "33     3\n",
              "22     3\n",
              "37     3\n",
              "43     3\n",
              "68     3\n",
              "45     3\n",
              "46     3\n",
              "60     3\n",
              "41     2\n",
              "57     2\n",
              "66     2\n",
              "65     2\n",
              "63     2\n",
              "58     2\n",
              "26     2\n",
              "70     2\n",
              "42     2\n",
              "53     2\n",
              "52     2\n",
              "51     2\n",
              "44     2\n",
              "55     1\n",
              "64     1\n",
              "69     1\n",
              "56     1\n",
              "Name: Age, dtype: int64"
            ]
          },
          "metadata": {
            "tags": []
          },
          "execution_count": 14
        }
      ]
    },
    {
      "cell_type": "code",
      "metadata": {
        "colab": {
          "base_uri": "https://localhost:8080/",
          "height": 295
        },
        "id": "_oluSXZ-6wCE",
        "outputId": "16c4aeba-bd95-4b60-c2f0-1c67988c9af6"
      },
      "source": [
        "# Plotting the features of the dataset to see the correlation between them\n",
        "\n",
        "plt.hist(x = data.Age, bins = 3, color = 'pink')\n",
        "plt.title('comparison of age')\n",
        "plt.xlabel('Age')\n",
        "plt.ylabel('population')\n",
        "plt.show()"
      ],
      "execution_count": null,
      "outputs": [
        {
          "output_type": "display_data",
          "data": {
            "image/png": "[encoded data removed]",
            "text/plain": [
              "<Figure size 432x288 with 1 Axes>"
            ]
          },
          "metadata": {
            "tags": [],
            "needs_background": "light"
          }
        }
      ]
    },
    {
      "cell_type": "code",
      "metadata": {
        "colab": {
          "base_uri": "https://localhost:8080/"
        },
        "id": "MIrOvHbW6c6s",
        "outputId": "19abe8d6-c355-4657-9932-e98be0dd0732"
      },
      "source": [
        "data['Annual Income (k$)'].value_counts()"
      ],
      "execution_count": null,
      "outputs": [
        {
          "output_type": "execute_result",
          "data": {
            "text/plain": [
              "54     12\n",
              "78     12\n",
              "60      6\n",
              "87      6\n",
              "62      6\n",
              "       ..\n",
              "61      2\n",
              "126     2\n",
              "59      2\n",
              "58      2\n",
              "15      2\n",
              "Name: Annual Income (k$), Length: 64, dtype: int64"
            ]
          },
          "metadata": {
            "tags": []
          },
          "execution_count": 16
        }
      ]
    },
    {
      "cell_type": "code",
      "metadata": {
        "id": "rbj5KtG87a77"
      },
      "source": [
        "# Using the elbow method to find the optimal number of clusters\n",
        "from sklearn.cluster import KMeans\n",
        "wcss = []\n",
        "for i in range (1, 11):\n",
        "    kmeans = KMeans(n_clusters = i, init = 'k-means++', max_iter = 300, n_init = 10, random_state = 0)\n",
        "    kmeans.fit(X)\n",
        "    wcss.append(kmeans.inertia_)"
      ],
      "execution_count": null,
      "outputs": []
    },
    {
      "cell_type": "code",
      "metadata": {
        "id": "6lLOVn4NEgye"
      },
      "source": [
        "#Let's predict the x\n",
        "y_kmeans = kmeans.fit_predict(X)"
      ],
      "execution_count": null,
      "outputs": []
    },
    {
      "cell_type": "code",
      "metadata": {
        "colab": {
          "base_uri": "https://localhost:8080/",
          "height": 307
        },
        "id": "rhQfEiqWE1MU",
        "outputId": "5c29218b-fef9-471a-a2eb-35f86b9abf3c"
      },
      "source": [
        "print(y_kmeans)\n",
        "#We convert our prediction to dataframe so we can easily see this prediction in table form\n",
        "df_pred = pd.DataFrame(y_kmeans)\n",
        "df_pred.head()"
      ],
      "execution_count": null,
      "outputs": [
        {
          "output_type": "stream",
          "text": [
            "[7 0 4 0 7 0 4 0 4 0 4 0 4 0 4 0 7 0 7 0 7 0 4 0 4 0 7 0 7 0 4 0 4 0 4 0 4\n",
            " 0 7 0 7 0 7 8 7 8 8 8 7 7 8 8 8 8 8 8 8 8 8 8 8 8 8 8 8 8 8 8 8 8 8 8 8 8\n",
            " 8 8 8 8 8 1 8 8 1 1 8 8 8 8 8 1 1 1 1 1 1 1 1 1 1 1 1 1 1 1 1 1 1 1 1 1 1\n",
            " 1 1 1 1 1 1 1 1 1 1 1 1 2 1 6 1 2 5 6 5 6 1 6 5 2 5 6 5 6 5 2 1 2 5 2 1 6\n",
            " 5 2 5 2 5 6 5 2 5 6 5 6 1 2 5 2 5 6 5 2 5 6 5 6 5 2 5 2 5 6 5 2 3 9 3 9 3\n",
            " 9 3 9 3 9 3 9 3 9 3 9 3 9 3 9]\n"
          ],
          "name": "stdout"
        },
        {
          "output_type": "execute_result",
          "data": {
            "text/html": [
              "<div>\n",
              "<style scoped>\n",
              "    .dataframe tbody tr th:only-of-type {\n",
              "        vertical-align: middle;\n",
              "    }\n",
              "\n",
              "    .dataframe tbody tr th {\n",
              "        vertical-align: top;\n",
              "    }\n",
              "\n",
              "    .dataframe thead th {\n",
              "        text-align: right;\n",
              "    }\n",
              "</style>\n",
              "<table border=\"1\" class=\"dataframe\">\n",
              "  <thead>\n",
              "    <tr style=\"text-align: right;\">\n",
              "      <th></th>\n",
              "      <th>0</th>\n",
              "    </tr>\n",
              "  </thead>\n",
              "  <tbody>\n",
              "    <tr>\n",
              "      <th>0</th>\n",
              "      <td>7</td>\n",
              "    </tr>\n",
              "    <tr>\n",
              "      <th>1</th>\n",
              "      <td>0</td>\n",
              "    </tr>\n",
              "    <tr>\n",
              "      <th>2</th>\n",
              "      <td>4</td>\n",
              "    </tr>\n",
              "    <tr>\n",
              "      <th>3</th>\n",
              "      <td>0</td>\n",
              "    </tr>\n",
              "    <tr>\n",
              "      <th>4</th>\n",
              "      <td>7</td>\n",
              "    </tr>\n",
              "  </tbody>\n",
              "</table>\n",
              "</div>"
            ],
            "text/plain": [
              "   0\n",
              "0  7\n",
              "1  0\n",
              "2  4\n",
              "3  0\n",
              "4  7"
            ]
          },
          "metadata": {
            "tags": []
          },
          "execution_count": 19
        }
      ]
    },
    {
      "cell_type": "markdown",
      "metadata": {
        "id": "aQLaRLA-lsny"
      },
      "source": [
        "Now that we are all set on the data front, it is time to start with our clustering. Before we run our clustering algorithm, it is imperative to determine the number of clusters to divide our customers into. There are a few different methods of determining the ideal number of clusters for this dataset. For that, we will be using the **elbow method.** \n",
        "\n",
        "---\n",
        "\n"
      ]
    },
    {
      "cell_type": "markdown",
      "metadata": {
        "id": "VCQ2SzB0l5-J"
      },
      "source": [
        "**Elbow method**\n",
        "\n",
        "---\n",
        "\n",
        "\n",
        "One method to figure out the number of clusters is by using the elbow method. This method involves running the K-means clustering algorithm on the data for different values of K and calculating the Sum of Squared Errors (S.S.E.) for each value of K.\n",
        "Then, these values are plotted on a graph, and we can see that S.S.E. tends to decrease as the value of K increases. S.S.E. becomes 0 when the values of K is equal to the number of data points, because then each data point is its own cluster. Our aim is to find a point with a small value of K and that has a low S.S.E.\n",
        "In this experiment, we will run K-means for different values of K in the range of 0 to 10 and store the S.S.E. in a list called distortions."
      ]
    },
    {
      "cell_type": "markdown",
      "metadata": {
        "id": "8nQMW730mLuA"
      },
      "source": [
        "![image.png](data:image/png;base64,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)"
      ]
    },
    {
      "cell_type": "code",
      "metadata": {
        "colab": {
          "base_uri": "https://localhost:8080/",
          "height": 299
        },
        "id": "RMm9r0jf7fDb",
        "outputId": "004fc85f-1d13-44dd-c33d-d2862c0b909a"
      },
      "source": [
        "plt.plot(range(1,11), wcss)\n",
        "plt.title('The Elbow Method')\n",
        "plt.xlabel('Number of Clusters')\n",
        "plt.ylabel('wcss') #Within-Cluster-Sum-of-Squares \n",
        "plt.show()\n"
      ],
      "execution_count": null,
      "outputs": [
        {
          "output_type": "display_data",
          "data": {
            "image/png": "[encoded data removed]",
            "text/plain": [
              "<Figure size 432x288 with 1 Axes>"
            ]
          },
          "metadata": {
            "tags": []
          }
        }
      ]
    },
    {
      "cell_type": "markdown",
      "metadata": {
        "id": "5j8cQpj_mX5Q"
      },
      "source": [
        "**In this graph,** you can observe that the S.S.E. steeply drops after every iteration of K. \n",
        "---\n",
        "\n",
        "\n",
        "You can also observe that after **K reaches 5**, it is one downhill slope from there. So, 5 seems to be an optimum value for K, and this means that we will be dividing the customers into 5 clusters.\n",
        "Now that we have figured out the number of clusters we can go ahead and create these clusters.\n",
        "\n",
        "---\n",
        "\n"
      ]
    },
    {
      "cell_type": "code",
      "metadata": {
        "colab": {
          "base_uri": "https://localhost:8080/",
          "height": 295
        },
        "id": "y_L6rBMS7iGj",
        "outputId": "639fc466-9d0a-40b3-fdb4-cc3f51bf104c"
      },
      "source": [
        "# Applying k-means to the mall dataset\n",
        "kmeans = KMeans(n_clusters = 5, init = 'k-means++', max_iter = 300, n_init = 10, random_state = 0)\n",
        "y_kmeans = kmeans.fit_predict(X)\n",
        "\n",
        "# Visualising the clusters\n",
        "plt.scatter(X[y_kmeans==0, 0], X[y_kmeans==0, 1], s = 100, c = 'red', label = 'Cluster - 1')\n",
        "plt.scatter(X[y_kmeans==1, 0], X[y_kmeans==1, 1], s = 100, c = 'blue', label = 'Cluster - 2')\n",
        "plt.scatter(X[y_kmeans==2, 0], X[y_kmeans==2, 1], s = 100, c = 'green', label = 'Cluster - 3')\n",
        "plt.scatter(X[y_kmeans==3, 0], X[y_kmeans==3, 1], s = 100, c = 'cyan', label = 'Cluster - 4')\n",
        "plt.scatter(X[y_kmeans==4, 0], X[y_kmeans==4, 1], s = 100, c = 'magenta', label = 'Cluster - 5')\n",
        "plt.scatter(kmeans.cluster_centers_[:, 0], kmeans.cluster_centers_[:, 1], s = 300, c='yellow', label = 'Centroids')\n",
        "plt.title('Clusters of Clients')\n",
        "plt.xlabel('Annual Income (k$)')\n",
        "plt.ylabel('Spending Score (1-100)')\n",
        "plt.legend()\n",
        "plt.show()"
      ],
      "execution_count": null,
      "outputs": [
        {
          "output_type": "display_data",
          "data": {
            "image/png": "[encoded data removed]",
            "text/plain": [
              "<Figure size 432x288 with 1 Axes>"
            ]
          },
          "metadata": {
            "tags": [],
            "needs_background": "light"
          }
        }
      ]
    },
    {
      "cell_type": "code",
      "metadata": {
        "colab": {
          "base_uri": "https://localhost:8080/",
          "height": 307
        },
        "id": "3YR_3nr4FVCw",
        "outputId": "d120b9f9-6117-4d9a-a9aa-b1e6be29c384"
      },
      "source": [
        "print(y_kmeans)\n",
        "#We convert our prediction to dataframe so we can easily see this prediction in table form\n",
        "df_pred = pd.DataFrame(y_kmeans)\n",
        "df_pred.head()"
      ],
      "execution_count": null,
      "outputs": [
        {
          "output_type": "stream",
          "text": [
            "[3 1 3 1 3 1 3 1 3 1 3 1 3 1 3 1 3 1 3 1 3 1 3 1 3 1 3 1 3 1 3 1 3 1 3 1 3\n",
            " 1 3 1 3 1 3 0 3 1 0 0 0 0 0 0 0 0 0 0 0 0 0 0 0 0 0 0 0 0 0 0 0 0 0 0 0 0\n",
            " 0 0 0 0 0 0 0 0 0 0 0 0 0 0 0 0 0 0 0 0 0 0 0 0 0 0 0 0 0 0 0 0 0 0 0 0 0\n",
            " 0 0 0 0 0 0 0 0 0 0 0 0 2 4 2 0 2 4 2 4 2 0 2 4 2 4 2 4 2 4 2 0 2 4 2 4 2\n",
            " 4 2 4 2 4 2 4 2 4 2 4 2 4 2 4 2 4 2 4 2 4 2 4 2 4 2 4 2 4 2 4 2 4 2 4 2 4\n",
            " 2 4 2 4 2 4 2 4 2 4 2 4 2 4 2]\n"
          ],
          "name": "stdout"
        },
        {
          "output_type": "execute_result",
          "data": {
            "text/html": [
              "<div>\n",
              "<style scoped>\n",
              "    .dataframe tbody tr th:only-of-type {\n",
              "        vertical-align: middle;\n",
              "    }\n",
              "\n",
              "    .dataframe tbody tr th {\n",
              "        vertical-align: top;\n",
              "    }\n",
              "\n",
              "    .dataframe thead th {\n",
              "        text-align: right;\n",
              "    }\n",
              "</style>\n",
              "<table border=\"1\" class=\"dataframe\">\n",
              "  <thead>\n",
              "    <tr style=\"text-align: right;\">\n",
              "      <th></th>\n",
              "      <th>0</th>\n",
              "    </tr>\n",
              "  </thead>\n",
              "  <tbody>\n",
              "    <tr>\n",
              "      <th>0</th>\n",
              "      <td>3</td>\n",
              "    </tr>\n",
              "    <tr>\n",
              "      <th>1</th>\n",
              "      <td>1</td>\n",
              "    </tr>\n",
              "    <tr>\n",
              "      <th>2</th>\n",
              "      <td>3</td>\n",
              "    </tr>\n",
              "    <tr>\n",
              "      <th>3</th>\n",
              "      <td>1</td>\n",
              "    </tr>\n",
              "    <tr>\n",
              "      <th>4</th>\n",
              "      <td>3</td>\n",
              "    </tr>\n",
              "  </tbody>\n",
              "</table>\n",
              "</div>"
            ],
            "text/plain": [
              "   0\n",
              "0  3\n",
              "1  1\n",
              "2  3\n",
              "3  1\n",
              "4  3"
            ]
          },
          "metadata": {
            "tags": []
          },
          "execution_count": 21
        }
      ]
    },
    {
      "cell_type": "markdown",
      "metadata": {
        "id": "fX6N5QHHFb4f"
      },
      "source": [
        "it's our prediction means\n",
        "0 number customer belongs to 3 number cluster\n",
        "1 number customer belongs to 1 number cluster\n",
        "\n",
        "---\n",
        "\n"
      ]
    },
    {
      "cell_type": "markdown",
      "metadata": {
        "id": "LRn76KNVmtzj"
      },
      "source": [
        "Since the dataset was small, all these processes take no time to finish. Once the clusters are created, we can plot them on a graph. Each cluster point is marked using a different sign, and the centroids of each cluster are marked using solid red dots. \n",
        "\n",
        "---\n",
        "\n"
      ]
    },
    {
      "cell_type": "markdown",
      "metadata": {
        "id": "O_6znkhSmzrn"
      },
      "source": [
        "Just looking at the graph tells us about the five different types of customers that frequent the mall. If we were to name them, then they could be named as follows:\n",
        "\n",
        "i. Low income, High spenders (Red).\n",
        "\n",
        "ii. Low income, Low Spenders (Blue).\n",
        "\n",
        "iii. Average income, average expenditure(Orange).\n",
        "\n",
        "iv. High income, High spenders, and(Green)\n",
        "\n",
        "v. High income, Low spenders(Purple).\n",
        "\n",
        "---\n",
        "\n",
        "\n"
      ]
    },
    {
      "cell_type": "markdown",
      "metadata": {
        "id": "J2v0VZQknXmt"
      },
      "source": [
        "**Conclusion**\n",
        "Understanding a business’s customer base is of utmost importance. One of the ways to gain deeper insight into customer behaviour is by segmenting them into different buckets based on their behaviour (income and expenditure in this experiment.) Similar people tend to behave similarly, and this is the crux of customer segmentation. Therefore, by planning all the sales and marketing activities around these buckets, it would promise a higher return on investment and enjoyable customer experience."
      ]
    },
    {
      "cell_type": "code",
      "metadata": {
        "colab": {
          "base_uri": "https://localhost:8080/",
          "height": 295
        },
        "id": "5uQynP6IXG21",
        "outputId": "a6e4eced-fe86-4b32-84c2-59f00c8820f8"
      },
      "source": [
        "dataset = pd.read_csv('Mall_Customers.csv')\n",
        "X = dataset.iloc[:, [1,4]].values\n",
        "X\n",
        "from sklearn.preprocessing import LabelEncoder\n",
        "\n",
        "labelencoder_X = LabelEncoder()\n",
        "X[:, 0] = labelencoder_X.fit_transform(X[:, 0])\n",
        "# print(X)\n",
        "\n",
        "# Applying k-means to the mall dataset\n",
        "kmeans = KMeans(n_clusters = 5, init = 'k-means++', max_iter = 300, n_init = 10, random_state = 0)\n",
        "y_kmeans = kmeans.fit_predict(X)\n",
        "\n",
        "# Visualising the clusters\n",
        "plt.scatter(X[y_kmeans==0, 0], X[y_kmeans==0, 1], s = 100, c = 'red', label = 'Cluster - 1')\n",
        "plt.scatter(X[y_kmeans==1, 0], X[y_kmeans==1, 1], s = 100, c = 'blue', label = 'Cluster - 2')\n",
        "plt.scatter(X[y_kmeans==2, 0], X[y_kmeans==2, 1], s = 100, c = 'green', label = 'Cluster - 3')\n",
        "plt.scatter(X[y_kmeans==3, 0], X[y_kmeans==3, 1], s = 100, c = 'cyan', label = 'Cluster - 4')\n",
        "plt.scatter(X[y_kmeans==4, 0], X[y_kmeans==4, 1], s = 100, c = 'magenta', label = 'Cluster - 5')\n",
        "plt.scatter(kmeans.cluster_centers_[:, 0], kmeans.cluster_centers_[:, 1], s = 300, c='yellow', label = 'Centroids')\n",
        "plt.title('Clusters of Clients')\n",
        "plt.xlabel('Genre')\n",
        "plt.ylabel('Spending Score (1-100)')\n",
        "plt.legend()\n",
        "plt.show()"
      ],
      "execution_count": null,
      "outputs": [
        {
          "output_type": "display_data",
          "data": {
            "image/png": "[encoded data removed]",
            "text/plain": [
              "<Figure size 432x288 with 1 Axes>"
            ]
          },
          "metadata": {
            "tags": [],
            "needs_background": "light"
          }
        }
      ]
    }
  ]
}