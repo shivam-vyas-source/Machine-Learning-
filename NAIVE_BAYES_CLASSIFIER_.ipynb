{
  "nbformat": 4,
  "nbformat_minor": 0,
  "metadata": {
    "kernelspec": {
      "display_name": "Python 3",
      "language": "python",
      "name": "python3"
    },
    "language_info": {
      "codemirror_mode": {
        "name": "ipython",
        "version": 3
      },
      "file_extension": ".py",
      "mimetype": "text/x-python",
      "name": "python",
      "nbconvert_exporter": "python",
      "pygments_lexer": "ipython3",
      "version": "3.6.3"
    },
    "colab": {
      "provenance": []
    }
  },
  "cells": [
    {
      "cell_type": "code",
      "metadata": {
        "id": "sjA_j3Mc3Auj"
      },
      "source": [
        "import pandas as pd"
      ],
      "execution_count": null,
      "outputs": []
    },
    {
      "cell_type": "code",
      "metadata": {
        "id": "kLJHahbW3Aum"
      },
      "source": [
        "msg = pd.read_csv('/content/text_doc.CSV', names=['message', 'label'])"
      ],
      "execution_count": null,
      "outputs": []
    },
    {
      "cell_type": "code",
      "metadata": {
        "id": "-rlTV2lJ3Aun",
        "colab": {
          "base_uri": "https://localhost:8080/"
        },
        "outputId": "981a4854-ae83-4241-9f8e-5c517b3b9aee"
      },
      "source": [
        "print(\"Total Instances of Dataset: \", msg.shape[0])"
      ],
      "execution_count": null,
      "outputs": [
        {
          "output_type": "stream",
          "name": "stdout",
          "text": [
            "Total Instances of Dataset:  18\n"
          ]
        }
      ]
    },
    {
      "cell_type": "code",
      "metadata": {
        "id": "2NXZ_yr23Aun"
      },
      "source": [
        "msg['labelnum'] = msg.label.map({'pos': 1, 'neg': 0})"
      ],
      "execution_count": null,
      "outputs": []
    },
    {
      "cell_type": "code",
      "metadata": {
        "id": "0Q96uF1U3Aun"
      },
      "source": [
        "X = msg.message"
      ],
      "execution_count": null,
      "outputs": []
    },
    {
      "cell_type": "code",
      "metadata": {
        "id": "apADrhDZ3Auo"
      },
      "source": [
        "y = msg.labelnum"
      ],
      "execution_count": null,
      "outputs": []
    },
    {
      "cell_type": "code",
      "metadata": {
        "id": "uYuh1aoV3Auo"
      },
      "source": [
        "from sklearn.model_selection import train_test_split"
      ],
      "execution_count": null,
      "outputs": []
    },
    {
      "cell_type": "code",
      "metadata": {
        "id": "0GDks9VT3Aup"
      },
      "source": [
        "Xtrain, Xtest, ytrain, ytest = train_test_split(X, y)"
      ],
      "execution_count": null,
      "outputs": []
    },
    {
      "cell_type": "code",
      "metadata": {
        "id": "L-5b_ONR3Auq"
      },
      "source": [
        "from sklearn.feature_extraction.text import CountVectorizer"
      ],
      "execution_count": null,
      "outputs": []
    },
    {
      "cell_type": "code",
      "metadata": {
        "id": "Y-oMUWAi3Aur"
      },
      "source": [
        "count_v = CountVectorizer()"
      ],
      "execution_count": null,
      "outputs": []
    },
    {
      "cell_type": "code",
      "metadata": {
        "id": "r42Kyoyr3Aur"
      },
      "source": [
        "Xtrain_dm = count_v.fit_transform(Xtrain)"
      ],
      "execution_count": null,
      "outputs": []
    },
    {
      "cell_type": "code",
      "metadata": {
        "id": "5PB3w6363Aur"
      },
      "source": [
        "Xtest_dm = count_v.transform(Xtest)"
      ],
      "execution_count": null,
      "outputs": []
    },
    {
      "cell_type": "code",
      "metadata": {
        "id": "9td7Pi5p3Aus",
        "colab": {
          "base_uri": "https://localhost:8080/"
        },
        "outputId": "f4308b22-f1ce-4fed-8fbb-68657129d76e"
      },
      "source": [
        "df = pd.DataFrame(Xtrain_dm.toarray(),columns=count_v.get_feature_names())"
      ],
      "execution_count": null,
      "outputs": [
        {
          "output_type": "stream",
          "name": "stderr",
          "text": [
            "/usr/local/lib/python3.7/dist-packages/sklearn/utils/deprecation.py:87: FutureWarning: Function get_feature_names is deprecated; get_feature_names is deprecated in 1.0 and will be removed in 1.2. Please use get_feature_names_out instead.\n",
            "  warnings.warn(msg, category=FutureWarning)\n"
          ]
        }
      ]
    },
    {
      "cell_type": "code",
      "metadata": {
        "id": "Mn7CPGpT3Aus",
        "colab": {
          "base_uri": "https://localhost:8080/"
        },
        "outputId": "7a5d5c8d-7edc-47a5-d093-cc805aabc6d8"
      },
      "source": [
        "print(df[0:5])"
      ],
      "execution_count": null,
      "outputs": [
        {
          "output_type": "stream",
          "name": "stdout",
          "text": [
            "   about  am  amazing  an  and  awesome  ...  tomorrow  very  we  went  will  with\n",
            "0      0   0        1   1    0        0  ...         0     0   0     0     0     0\n",
            "1      0   1        0   0    0        0  ...         0     0   0     0     0     0\n",
            "2      0   0        0   0    0        0  ...         0     0   0     0     0     1\n",
            "3      0   0        0   0    0        0  ...         1     0   1     0     1     0\n",
            "4      0   0        0   1    0        1  ...         0     0   0     0     0     0\n",
            "\n",
            "[5 rows x 45 columns]\n"
          ]
        }
      ]
    },
    {
      "cell_type": "code",
      "metadata": {
        "id": "rFXXVGcj3Aus"
      },
      "source": [
        "from sklearn.naive_bayes import MultinomialNB"
      ],
      "execution_count": null,
      "outputs": []
    },
    {
      "cell_type": "code",
      "metadata": {
        "id": "nkbxRMRT3Aus"
      },
      "source": [
        "clf = MultinomialNB()"
      ],
      "execution_count": null,
      "outputs": []
    },
    {
      "cell_type": "code",
      "metadata": {
        "id": "YsQZ3dMA3Aut",
        "colab": {
          "base_uri": "https://localhost:8080/"
        },
        "outputId": "89d78db4-1320-477d-e64c-4ccb5a103218"
      },
      "source": [
        "clf.fit(Xtrain_dm, ytrain)"
      ],
      "execution_count": null,
      "outputs": [
        {
          "output_type": "execute_result",
          "data": {
            "text/plain": [
              "MultinomialNB()"
            ]
          },
          "metadata": {},
          "execution_count": 17
        }
      ]
    },
    {
      "cell_type": "code",
      "metadata": {
        "id": "q5Eb8y_F3Aut"
      },
      "source": [
        "pred = clf.predict(Xtest_dm)"
      ],
      "execution_count": null,
      "outputs": []
    },
    {
      "cell_type": "code",
      "metadata": {
        "id": "QoO_gfYF3Aut",
        "colab": {
          "base_uri": "https://localhost:8080/"
        },
        "outputId": "0dc6a398-2c05-4f5c-9756-5e350e2f3c70"
      },
      "source": [
        "for doc, p in zip(Xtrain, pred):\n",
        "    p = 'pos' if p == 1 else 'neg'\n",
        "    print(\"%s -> %s\" % (doc, p))"
      ],
      "execution_count": null,
      "outputs": [
        {
          "output_type": "stream",
          "name": "stdout",
          "text": [
            "This is an amazing place -> pos\n",
            "I am tired of this stuff -> neg\n",
            "I can't deal with this -> neg\n",
            "We will have good fun tomorrow -> neg\n",
            "This is an awesome place -> neg\n"
          ]
        }
      ]
    },
    {
      "cell_type": "code",
      "metadata": {
        "id": "XWIJSYm63Aut"
      },
      "source": [
        "from sklearn.metrics import accuracy_score, confusion_matrix, precision_score, recall_score"
      ],
      "execution_count": null,
      "outputs": []
    },
    {
      "cell_type": "code",
      "metadata": {
        "id": "dxPXCb4L3Auu",
        "colab": {
          "base_uri": "https://localhost:8080/"
        },
        "outputId": "6bf0ec77-ee9f-466f-f0ef-4496762e6ebd"
      },
      "source": [
        "print('Accuracy Metrics: \\n')\n",
        "print('Accuracy: ', accuracy_score(ytest, pred))"
      ],
      "execution_count": null,
      "outputs": [
        {
          "output_type": "stream",
          "name": "stdout",
          "text": [
            "Accuracy Metrics: \n",
            "\n",
            "Accuracy:  0.6\n"
          ]
        }
      ]
    },
    {
      "cell_type": "code",
      "metadata": {
        "id": "2ZDpiAPi3Auu",
        "colab": {
          "base_uri": "https://localhost:8080/"
        },
        "outputId": "8c11bd5e-6e16-4b14-fe59-ece2cdb0e2b3"
      },
      "source": [
        "print('Recall: ', recall_score(ytest, pred))"
      ],
      "execution_count": null,
      "outputs": [
        {
          "output_type": "stream",
          "name": "stdout",
          "text": [
            "Recall:  0.3333333333333333\n"
          ]
        }
      ]
    },
    {
      "cell_type": "code",
      "metadata": {
        "id": "6KLE-83r3Auu",
        "colab": {
          "base_uri": "https://localhost:8080/"
        },
        "outputId": "ed1e864d-b125-4600-854b-2c7bb0a466f3"
      },
      "source": [
        "print('Precision: ', precision_score(ytest, pred))"
      ],
      "execution_count": null,
      "outputs": [
        {
          "output_type": "stream",
          "name": "stdout",
          "text": [
            "Precision:  1.0\n"
          ]
        }
      ]
    },
    {
      "cell_type": "code",
      "metadata": {
        "id": "QVtt21t03Auu",
        "colab": {
          "base_uri": "https://localhost:8080/"
        },
        "outputId": "82bccec4-4a68-4815-d29b-cff7fadc808e"
      },
      "source": [
        "print('Confusion Matrix: \\n', confusion_matrix(ytest, pred))"
      ],
      "execution_count": null,
      "outputs": [
        {
          "output_type": "stream",
          "name": "stdout",
          "text": [
            "Confusion Matrix: \n",
            " [[2 0]\n",
            " [2 1]]\n"
          ]
        }
      ]
    },
    {
      "cell_type": "code",
      "metadata": {
        "id": "SDEL1nY23Auv"
      },
      "source": [],
      "execution_count": null,
      "outputs": []
    }
  ]
}